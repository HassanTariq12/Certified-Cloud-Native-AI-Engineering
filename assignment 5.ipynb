{
 "cells": [
  {
   "cell_type": "markdown",
   "metadata": {},
   "source": [

   ]
  },
  {
   "cell_type": "markdown",
   "metadata": {},
   "source": [
   
   ]
  },
  {
   "cell_type": "code",
   "execution_count": 6,
   "metadata": {},
   "outputs": [
    {
     "name": "stdout",
     "output_type": "stream",
     "text": [
      "Welcome to the High-Low Game!\n",
      "--------------------------------\n",
      "\n",
      "Round 1\n",
      "Your number is 70\n",
      "Invalid input. Please enter 'higher' or 'lower'.\n",
      "\n",
      "Round 2\n",
      "Your number is 56\n",
      "Aww, that's incorrect. The computer's number was 58\n",
      "Your score is now 0\n",
      "Better Luck Next Time\n",
      "\n",
      "Round 3\n",
      "Your number is 64\n",
      "You were right! The computer's number was 73\n",
      "Your score is now 1\n",
      "Better Luck Next Time\n",
      "\n",
      "Round 4\n",
      "Your number is 9\n",
      "Aww, that's incorrect. The computer's number was 86\n",
      "Your score is now 1\n",
      "Better Luck Next Time\n",
      "\n",
      "Round 5\n",
      "Your number is 5\n",
      "Aww, that's incorrect. The computer's number was 5\n",
      "Your score is now 1\n",
      "Better Luck Next Time\n",
      "\n",
      "Thanks for playing!\n"
     ]
    }
   ],
   "source": [
    "import random\n",
    "\n",
    "def high_low_game():\n",
    "    print(\"Welcome to the High-Low Game!\")\n",
    "    print(\"--------------------------------\")\n",
    "    \n",
    "    rounds = 5  # Number of rounds to play\n",
    "    score = 0\n",
    "    \n",
    "    for round_number in range(1, rounds + 1):\n",
    "        # Generate a random number for the computer\n",
    "        computer_number = random.randint(1, 100)\n",
    "        \n",
    "        # User's number\n",
    "        user_number = random.randint(1, 100)\n",
    "        print(f\"\\nRound {round_number}\")\n",
    "        print(f\"Your number is {user_number}\")\n",
    "        \n",
    "        # Get user's guess\n",
    "        guess = input(\"Do you think your number is higher or lower than the computer's?: \").strip().lower()\n",
    "        \n",
    "        # Check if the guess is correct\n",
    "        if guess not in [\"higher\", \"lower\"]:\n",
    "            print(\"Invalid input. Please enter 'higher' or 'lower'.\")\n",
    "            continue\n",
    "        \n",
    "        # Determine if the guess was correct\n",
    "        if (guess == \"higher\" and user_number > computer_number) or \\\n",
    "           (guess == \"lower\" and user_number < computer_number):\n",
    "            print(f\"You were right! The computer's number was {computer_number}\")\n",
    "            score += 1\n",
    "        else:\n",
    "            print(f\"Aww, that's incorrect. The computer's number was {computer_number}\")\n",
    "        if (score==5):\n",
    "            print(f\"Your score is now {score}\")\n",
    "            print(f\"Wow you played perfectly!\")\n",
    "        if (score==5//2):\n",
    "             print(f\"Your score is now {score}\")\n",
    "             print(f\"Good job, you played really well!\")\n",
    "        if (score < 5//2):\n",
    "             print(f\"Your score is now {score}\")\n",
    "             print(f\"Better Luck Next Time\")\n",
    "\n",
    "    \n",
    "    print(\"\\nThanks for playing!\")\n",
    "\n",
    "# Run the game\n",
    "high_low_game()\n"
   ]
  },
  {
   "cell_type": "code",
   "execution_count": null,
   "metadata": {},
   "outputs": [],
   "source": []
  }
 ],
 "metadata": {
  "kernelspec": {
   "display_name": "Python 3",
   "language": "python",
   "name": "python3"
  },
  "language_info": {
   "codemirror_mode": {
    "name": "ipython",
    "version": 3
   },
   "file_extension": ".py",
   "mimetype": "text/x-python",
   "name": "python",
   "nbconvert_exporter": "python",
   "pygments_lexer": "ipython3",
   "version": "3.12.2"
  }
 },
 "nbformat": 4,
 "nbformat_minor": 2
}
